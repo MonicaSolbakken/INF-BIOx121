{
 "metadata": {
  "name": "",
  "signature": "sha256:5686a956b7031feb48bbeeab9a173d52712e3144f33d4496f79170f2d8d7b2c1"
 },
 "nbformat": 3,
 "nbformat_minor": 0,
 "worksheets": [
  {
   "cells": [
    {
     "cell_type": "markdown",
     "metadata": {},
     "source": [
      "#Plotting insert size distributions\n",
      "\n",
      "Course material for the INF-BIOx121 'High Throughput Sequencing technologies and bioinformatics analysis' course at the University of Oslo, Fall 2014. See [https://wiki.uio.no/projects/clsi/index.php/INF-BIOX121_H14](https://wiki.uio.no/projects/clsi/index.php/INF-BIOX121_H14).\n",
      "\n",
      "We will use the following tools:\n",
      "\n",
      "* ipython notebook\n",
      "* the python *pysam* module for reading (and writing) SAM/BAM files\n",
      "* R (through the python module `rpy2`) for plotting"
     ]
    },
    {
     "cell_type": "markdown",
     "metadata": {},
     "source": [
      "####Let's start\n",
      "Let's check where we are."
     ]
    },
    {
     "cell_type": "code",
     "collapsed": false,
     "input": [
      "!pwd"
     ],
     "language": "python",
     "metadata": {},
     "outputs": []
    },
    {
     "cell_type": "markdown",
     "metadata": {},
     "source": [
      "And what files we have in the folder. You should have at least one BAM file."
     ]
    },
    {
     "cell_type": "code",
     "collapsed": false,
     "input": [
      "ls"
     ],
     "language": "python",
     "metadata": {},
     "outputs": []
    },
    {
     "cell_type": "markdown",
     "metadata": {},
     "source": [
      "Prepare python"
     ]
    },
    {
     "cell_type": "code",
     "collapsed": false,
     "input": [
      "import pysam\n",
      "import rpy2"
     ],
     "language": "python",
     "metadata": {},
     "outputs": []
    },
    {
     "cell_type": "code",
     "collapsed": false,
     "input": [
      "%load_ext rpy2.ipython"
     ],
     "language": "python",
     "metadata": {},
     "outputs": []
    },
    {
     "cell_type": "markdown",
     "metadata": {},
     "source": [
      "Set some parameters"
     ]
    },
    {
     "cell_type": "code",
     "collapsed": false,
     "input": [
      "infile = 'somefile.sorted.bam' #SAM or BAM file\n",
      "max_inserts = 10000 # collect no more than this insert sizes (for speed)"
     ],
     "language": "python",
     "metadata": {},
     "outputs": []
    },
    {
     "cell_type": "markdown",
     "metadata": {},
     "source": [
      "Open the file, go through the first `max_inserts` alignments, collect the insert size only when it is larger than 0"
     ]
    },
    {
     "cell_type": "code",
     "collapsed": false,
     "input": [
      "with pysam.Samfile(infile, 'rb' ) as samfile:\n",
      "    # NB 'rb' for BAM file, 'r' for SAM file\n",
      "    # collect all alignments in the SAM/BAM file\n",
      "    alignments = samfile.fetch()\n",
      "    insert_sizes = []\n",
      "    # go through all alignments\n",
      "    for alignment in alignments:\n",
      "        insert_size = alignment.isize\n",
      "        if insert_size > 0:\n",
      "            # collect insert size\n",
      "            insert_sizes.append(insert_size)\n",
      "        if len(insert_sizes) >= max_inserts:\n",
      "            # stop\n",
      "            break"
     ],
     "language": "python",
     "metadata": {},
     "outputs": []
    },
    {
     "cell_type": "markdown",
     "metadata": {},
     "source": [
      "Import the data from pyton into R and generate the histogram data  \n",
      "\n",
      "* For mapped paired end reads data, use 1 million bins\n",
      "* For the mapped mate pair reads, use 0.1 million bins\n",
      "\n",
      "\n",
      "**NOTE** this may take a while"
     ]
    },
    {
     "cell_type": "code",
     "collapsed": false,
     "input": [
      "%%R -i insert_sizes\n",
      "is <- as.data.frame(insert_sizes)\n",
      "h = hist(is$insert_sizes, breaks = 1000000, plot=FALSE)"
     ],
     "language": "python",
     "metadata": {},
     "outputs": []
    },
    {
     "cell_type": "markdown",
     "metadata": {},
     "source": [
      "Plot a simple histogram of alignments  \n",
      "Use a suitable range for the x axis (`xlim` settings), e.g. 0-500 for paired end, 0-10000 for mate pair (experiment with this)"
     ]
    },
    {
     "cell_type": "code",
     "collapsed": false,
     "input": [
      "%%R\n",
      "plot(h$mids,h$counts,type=\"l\", \n",
      "     xlim=c(0,10000))"
     ],
     "language": "python",
     "metadata": {},
     "outputs": []
    },
    {
     "cell_type": "markdown",
     "metadata": {},
     "source": [
      "Beautify by adding\n",
      "\n",
      "* limits for the x-axis\n",
      "* a label for the data\n",
      "* a legend\n",
      "\n",
      "Experiment with limits, labels etc"
     ]
    },
    {
     "cell_type": "code",
     "collapsed": false,
     "input": [
      "%%R\n",
      "plot(h$mids,h$counts,type=\"l\", \n",
      "     xlim=c(0,10000), \n",
      "     xlab = 'Insert size',\n",
      "     ylab = 'Count',\n",
      "     main = 'Insert size distribution mapped pairs',\n",
      "    )"
     ],
     "language": "python",
     "metadata": {},
     "outputs": []
    }
   ],
   "metadata": {}
  }
 ]
}